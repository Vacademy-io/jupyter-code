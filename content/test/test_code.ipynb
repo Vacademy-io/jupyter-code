{
 "cells": [
  {
   "cell_type": "markdown",
   "metadata": {},
   "source": [
    "# Sum of the First 10 Prime Numbers 📝\n",
    "\n",
    "This Jupyter Notebook calculates the sum of the first 10 prime numbers. \n",
    "\n",
    "It contains two main parts:\n",
    "1. A helper function `is_prime()` to check if a number is prime.\n",
    "2. The main logic that iterates through numbers, finds the first 10 primes, and calculates their sum."
   ]
  },
  {
   "cell_type": "code",
   "execution_count": null,
   "metadata": {},
   "outputs": [],
   "source": [
    "import math\n",
    "\n",
    "def is_prime(num: int) -> bool:\n",
    "    \"\"\"\n",
    "    Checks if a given integer is a prime number efficiently.\n",
    "\n",
    "    Args:\n",
    "        num: An integer to check for primality.\n",
    "\n",
    "    Returns:\n",
    "        True if the number is prime, False otherwise.\n",
    "    \"\"\"\n",
    "    # Prime numbers must be greater than 1.\n",
    "    if num <= 1:\n",
    "        return False\n",
    "    \n",
    "    # Check for factors from 2 up to the integer square root of the number.\n",
    "    # math.isqrt() is used for an efficient integer square root calculation.\n",
    "    for i in range(2, math.isqrt(num) + 1):\n",
    "        if num % i == 0:\n",
    "            return False\n",
    "            \n",
    "    return True\n",
    "\n",
    "# --- Main Logic ---\n",
    "\n",
    "primes_to_find = 10\n",
    "primes_found = []\n",
    "current_number = 2\n",
    "\n",
    "# Loop until we have found the desired number of primes\n",
    "while len(primes_found) < primes_to_find:\n",
    "    if is_prime(current_number):\n",
    "        primes_found.append(current_number)\n",
    "    current_number += 1\n",
    "\n",
    "# Calculate the sum of the found prime numbers\n",
    "total_sum = sum(primes_found)\n",
    "\n",
    "# --- Output ---\n",
    "print(f\"The first {primes_to_find} prime numbers are: {primes_found}\")\n",
    "print(f\"Their sum is: {total_sum}\")"
   ]
  },
  {
   "cell_type": "markdown",
   "metadata": {},
   "source": [
    "## Result ✅\n",
    "\n",
    "When the code cell above is executed, it confirms that the first 10 prime numbers are `[2, 3, 5, 7, 11, 13, 17, 19, 23, 29]`, and their sum is **129**."
   ]
  }
 ],
 "metadata": {
  "kernelspec": {
   "display_name": "Python 3",
   "language": "python",
   "name": "python3"
  },
  "language_info": {
   "codemirror_mode": {
    "name": "ipython",
    "version": 3
   },
   "file_extension": ".py",
   "mimetype": "text/x-python",
   "name": "python",
   "nbconvert_exporter": "python",
   "pygments_lexer": "ipython3",
   "version": "3.10.9"
  }
 },
 "nbformat": 4,
 "nbformat_minor": 4
}